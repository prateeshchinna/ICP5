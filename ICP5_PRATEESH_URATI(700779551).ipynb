{
  "nbformat": 4,
  "nbformat_minor": 0,
  "metadata": {
    "colab": {
      "provenance": []
    },
    "kernelspec": {
      "name": "python3",
      "display_name": "Python 3"
    },
    "language_info": {
      "name": "python"
    }
  },
  "cells": [
    {
      "cell_type": "code",
      "execution_count": 1,
      "metadata": {
        "colab": {
          "base_uri": "https://localhost:8080/"
        },
        "id": "floPhJYsKQd_",
        "outputId": "f2aa5537-34ec-44c2-f59e-4ecf91bcf951"
      },
      "outputs": [
        {
          "output_type": "stream",
          "name": "stdout",
          "text": [
            "Best parameters found: {'classifier__C': 0.1, 'classifier__kernel': 'linear', 'pca__n_components': 3}\n",
            "Best cross-validation score: 0.96\n",
            "Test set score: 1.00\n"
          ]
        }
      ],
      "source": [
        "from sklearn.datasets import load_iris\n",
        "from sklearn.model_selection import GridSearchCV, train_test_split\n",
        "from sklearn.preprocessing import StandardScaler\n",
        "from sklearn.decomposition import PCA\n",
        "from sklearn.svm import SVC\n",
        "from sklearn.pipeline import Pipeline\n",
        "\n",
        "# 1. Load dataset\n",
        "X, y = load_iris(return_X_y=True)\n",
        "X_train, X_test, y_train, y_test = train_test_split(X, y, test_size=0.2, random_state=42)\n",
        "\n",
        "# 2. Create pipeline\n",
        "pipe = Pipeline([\n",
        "    ('scaler', StandardScaler()),\n",
        "    ('pca', PCA()),\n",
        "    ('classifier', SVC())\n",
        "])\n",
        "\n",
        "# 3. Define parameter grid\n",
        "param_grid = {\n",
        "    'pca__n_components': [2, 3],\n",
        "    'classifier__C': [0.1, 1, 10],\n",
        "    'classifier__kernel': ['linear', 'rbf']\n",
        "}\n",
        "\n",
        "# 4. GridSearchCV\n",
        "grid = GridSearchCV(pipe, param_grid)\n",
        "grid.fit(X_train, y_train)\n",
        "\n",
        "# 5. Results\n",
        "print(\"Best parameters found:\", grid.best_params_)\n",
        "print(\"Best cross-validation score: {:.2f}\".format(grid.best_score_))\n",
        "print(\"Test set score: {:.2f}\".format(grid.score(X_test, y_test)))\n"
      ]
    },
    {
      "cell_type": "code",
      "source": [
        "from sklearn.datasets import load_iris\n",
        "from sklearn.model_selection import GridSearchCV, train_test_split\n",
        "from sklearn.preprocessing import StandardScaler\n",
        "from sklearn.decomposition import PCA\n",
        "from sklearn.svm import SVC\n",
        "from sklearn.pipeline import Pipeline\n",
        "\n",
        "# Load dataset\n",
        "X, y = load_iris(return_X_y=True)\n",
        "X_train, X_test, y_train, y_test = train_test_split(X, y, test_size=0.2, random_state=42)\n",
        "\n",
        "# Create pipeline\n",
        "pipe = Pipeline([\n",
        "    ('scaler', StandardScaler()),\n",
        "    ('pca', PCA()),\n",
        "    ('classifier', SVC())\n",
        "])\n",
        "\n",
        "# Parameter grid\n",
        "param_grid = {\n",
        "    'pca__n_components': [2, 3],\n",
        "    'classifier__C': [0.1, 1, 10],\n",
        "    'classifier__kernel': ['linear', 'rbf']\n",
        "}\n",
        "\n",
        "# Test with 3-fold, 5-fold, and 7-fold\n",
        "for cv_val in [3, 5, 7]:\n",
        "    print(f\"\\n=== CV={cv_val} ===\")\n",
        "    grid = GridSearchCV(pipe, param_grid, cv=cv_val)\n",
        "    grid.fit(X_train, y_train)\n",
        "    print(\"Best parameters:\", grid.best_params_)\n",
        "    print(\"Best CV score: {:.2f}\".format(grid.best_score_))\n",
        "    print(\"Test set score: {:.2f}\".format(grid.score(X_test, y_test)))"
      ],
      "metadata": {
        "colab": {
          "base_uri": "https://localhost:8080/"
        },
        "id": "cI6dQNgwKvnG",
        "outputId": "cf4b1a2d-a1e8-4662-f967-519ace6b5c41"
      },
      "execution_count": 2,
      "outputs": [
        {
          "output_type": "stream",
          "name": "stdout",
          "text": [
            "\n",
            "=== CV=3 ===\n",
            "Best parameters: {'classifier__C': 0.1, 'classifier__kernel': 'linear', 'pca__n_components': 3}\n",
            "Best CV score: 0.97\n",
            "Test set score: 1.00\n",
            "\n",
            "=== CV=5 ===\n",
            "Best parameters: {'classifier__C': 0.1, 'classifier__kernel': 'linear', 'pca__n_components': 3}\n",
            "Best CV score: 0.96\n",
            "Test set score: 1.00\n",
            "\n",
            "=== CV=7 ===\n",
            "Best parameters: {'classifier__C': 0.1, 'classifier__kernel': 'linear', 'pca__n_components': 3}\n",
            "Best CV score: 0.97\n",
            "Test set score: 1.00\n"
          ]
        }
      ]
    },
    {
      "cell_type": "code",
      "source": [
        "from sklearn.ensemble import RandomForestClassifier\n",
        "\n",
        "pipe_rf = Pipeline([\n",
        "    ('scaler', StandardScaler()),\n",
        "    ('pca', PCA()),\n",
        "    ('classifier', RandomForestClassifier())\n",
        "])\n",
        "\n",
        "param_grid_rf = {\n",
        "    'pca__n_components': [2, 3],\n",
        "    'classifier__n_estimators': [50, 100, 200],\n",
        "    'classifier__max_depth': [None, 5, 10]\n",
        "}\n",
        "\n",
        "grid_rf = GridSearchCV(pipe_rf, param_grid_rf, cv=5)\n",
        "grid_rf.fit(X_train, y_train)\n",
        "print(\"RandomForest Best Params:\", grid_rf.best_params_)"
      ],
      "metadata": {
        "colab": {
          "base_uri": "https://localhost:8080/"
        },
        "id": "SEhN4i8QK2vK",
        "outputId": "0a744f51-2421-41f5-dc5d-ef46c08657fb"
      },
      "execution_count": 3,
      "outputs": [
        {
          "output_type": "stream",
          "name": "stdout",
          "text": [
            "RandomForest Best Params: {'classifier__max_depth': 10, 'classifier__n_estimators': 50, 'pca__n_components': 3}\n"
          ]
        }
      ]
    },
    {
      "cell_type": "code",
      "source": [
        "from sklearn.linear_model import LogisticRegression\n",
        "\n",
        "pipe_lr = Pipeline([\n",
        "    ('scaler', StandardScaler()),\n",
        "    ('pca', PCA()),\n",
        "    ('classifier', LogisticRegression())\n",
        "])\n",
        "\n",
        "param_grid_lr = {\n",
        "    'pca__n_components': [2, 3],\n",
        "    'classifier__C': [0.01, 0.1, 1, 10],\n",
        "    'classifier__penalty': ['l2'],\n",
        "    'classifier__solver': ['lbfgs']\n",
        "}\n",
        "\n",
        "grid_lr = GridSearchCV(pipe_lr, param_grid_lr, cv=5)\n",
        "grid_lr.fit(X_train, y_train)\n",
        "print(\"LogisticRegression Best Params:\", grid_lr.best_params_)"
      ],
      "metadata": {
        "colab": {
          "base_uri": "https://localhost:8080/"
        },
        "id": "AZFzGL3fK-Yf",
        "outputId": "1d877aef-75b1-4497-e3bb-eef3a00a9420"
      },
      "execution_count": 4,
      "outputs": [
        {
          "output_type": "stream",
          "name": "stdout",
          "text": [
            "LogisticRegression Best Params: {'classifier__C': 1, 'classifier__penalty': 'l2', 'classifier__solver': 'lbfgs', 'pca__n_components': 3}\n"
          ]
        }
      ]
    },
    {
      "cell_type": "code",
      "source": [
        "from sklearn.linear_model import Perceptron\n",
        "\n",
        "pipe_perceptron = Pipeline([\n",
        "    ('scaler', StandardScaler()),\n",
        "    ('pca', PCA()),\n",
        "    ('classifier', Perceptron())\n",
        "])\n",
        "\n",
        "param_grid_perceptron = {\n",
        "    'pca__n_components': [2, 3],\n",
        "    'classifier__penalty': [None, 'l2', 'l1', 'elasticnet'],\n",
        "    'classifier__alpha': [0.0001, 0.001, 0.01]\n",
        "}\n",
        "\n",
        "grid_perceptron = GridSearchCV(pipe_perceptron, param_grid_perceptron, cv=5)\n",
        "grid_perceptron.fit(X_train, y_train)\n",
        "print(\"Perceptron Best Params:\", grid_perceptron.best_params_)"
      ],
      "metadata": {
        "colab": {
          "base_uri": "https://localhost:8080/"
        },
        "id": "xT2cRwt6LMEL",
        "outputId": "70765253-f8df-4652-f3a2-cefead42fce5"
      },
      "execution_count": 5,
      "outputs": [
        {
          "output_type": "stream",
          "name": "stdout",
          "text": [
            "Perceptron Best Params: {'classifier__alpha': 0.0001, 'classifier__penalty': 'l1', 'pca__n_components': 3}\n"
          ]
        }
      ]
    },
    {
      "cell_type": "code",
      "source": [
        "from sklearn.neighbors import KNeighborsClassifier\n",
        "\n",
        "pipe_knn = Pipeline([\n",
        "    ('scaler', StandardScaler()),\n",
        "    ('pca', PCA()),\n",
        "    ('classifier', KNeighborsClassifier())\n",
        "])\n",
        "\n",
        "param_grid_knn = {\n",
        "    'pca__n_components': [2, 3],\n",
        "    'classifier__n_neighbors': [3, 5, 7],\n",
        "    'classifier__weights': ['uniform', 'distance']\n",
        "}\n",
        "\n",
        "grid_knn = GridSearchCV(pipe_knn, param_grid_knn, cv=5)\n",
        "grid_knn.fit(X_train, y_train)\n",
        "print(\"KNN Best Params:\", grid_knn.best_params_)"
      ],
      "metadata": {
        "colab": {
          "base_uri": "https://localhost:8080/"
        },
        "id": "TdYsN79DLNtK",
        "outputId": "04196ef1-ec0c-4c48-ab57-4d9983e1f252"
      },
      "execution_count": 6,
      "outputs": [
        {
          "output_type": "stream",
          "name": "stdout",
          "text": [
            "KNN Best Params: {'classifier__n_neighbors': 3, 'classifier__weights': 'uniform', 'pca__n_components': 3}\n"
          ]
        }
      ]
    },
    {
      "cell_type": "code",
      "source": [
        "from sklearn.model_selection import RandomizedSearchCV\n",
        "\n",
        "# Using RandomizedSearchCV with RandomForest\n",
        "random_search_rf = RandomizedSearchCV(pipe_rf, param_grid_rf, n_iter=5, cv=5, random_state=42)\n",
        "random_search_rf.fit(X_train, y_train)\n",
        "print(\"RandomizedSearch Best Params (RF):\", random_search_rf.best_params_)"
      ],
      "metadata": {
        "colab": {
          "base_uri": "https://localhost:8080/"
        },
        "id": "nxzgSLu-LV5Y",
        "outputId": "1db8cfdc-10b0-4b46-b6b3-9a77a3de37fa"
      },
      "execution_count": 7,
      "outputs": [
        {
          "output_type": "stream",
          "name": "stdout",
          "text": [
            "RandomizedSearch Best Params (RF): {'pca__n_components': 3, 'classifier__n_estimators': 50, 'classifier__max_depth': None}\n"
          ]
        }
      ]
    },
    {
      "cell_type": "code",
      "source": [
        "# Read custom dataset\n",
        "import pandas as pd\n",
        "\n",
        "df = pd.read_csv('pd_speech_features.csv')\n",
        "X = df.drop('target_column', axis=1)  # Replace target_column with actual target\n",
        "y = df['target_column']\n",
        "\n",
        "# Train/test split\n",
        "X_train, X_test, y_train, y_test = train_test_split(X, y, test_size=0.2, random_state=42)"
      ],
      "metadata": {
        "id": "vqJlJDo5MzYh"
      },
      "execution_count": null,
      "outputs": []
    }
  ]
}